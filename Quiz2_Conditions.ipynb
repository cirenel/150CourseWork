{
 "cells": [
  {
   "cell_type": "markdown",
   "metadata": {},
   "source": [
    "# Quiz 2 : Conditional and If Statements"
   ]
  },
  {
   "cell_type": "markdown",
   "metadata": {},
   "source": [
    "### Section 2"
   ]
  },
  {
   "cell_type": "markdown",
   "metadata": {},
   "source": [
    "<h3> We're going to try something new.</h3>\n",
    "<p>This is a Jupyter notebook. If you select a cell with code in it then click the \"Run\" button above, the code will execute! <br>\n",
    "<p>You can edit and test code here independent of the Visual Studio IDE and without some of the extra syntax that can get underfoot. We're going to use it to focus in on a few quiz questions. <br> "
   ]
  },
  {
   "cell_type": "code",
   "execution_count": null,
   "metadata": {
    "hidden": true
   },
   "outputs": [],
   "source": [
    "//test the notebook by running this cell\n",
    "using static System.Console;"
   ]
  },
  {
   "cell_type": "markdown",
   "metadata": {},
   "source": [
    "#### Question 1"
   ]
  },
  {
   "cell_type": "markdown",
   "metadata": {},
   "source": [
    "<p>In the following block of code, we want to change our conditional statements so that the write lines are correct for any two given input values a and b. Complete the conditions marked Condition A and Condition B in the comments by replacing A and B with the correct conditional statement. You can edit the values of int a and int b. <br>"
    "<p>Will the WriteLine statements ever <b>both</b> execute?<br>"
    "<p> Be sure to record your answer on your hardcopy quiz.  "
   ]
  },
  {
   "cell_type": "code",
   "execution_count": null,
   "metadata": {},
   "outputs": [],
   "source": [
    "\n",
    "int a = 10; \n",
    "int b = 30;\n",
    "\n",
    "//Condition A\n",
    "if( A )\n",
    "{ \n",
    "    WriteLine(\"B is evenly divisible by A.\");\n",
    "}\n",
    "//Condition B\n",
    "else if ( B ){\n",
    "    WriteLine(\"A is 10 more than B.\");\n",
    "} \n"
   ]
  },
  {
   "cell_type": "markdown",
   "metadata": {},
   "source": [
    "#### Question 2"
   ]
  },
  {
   "cell_type": "markdown",
   "metadata": {},
   "source": [
    "In the following block of code, something is NOT right. <br><br>\n",
    "We want to print the student number first and last name to the console with some additional notes: \n",
    "<ul>\n",
    "    <li>A GPA of 4 or above should qualify the student for the Dean's List. </li>\n",
    "<li>A GPA between 3.5 and 4 should qualify the student for recognition. </li>\n",
    "<li>A GPA between 2 and 3.5 the student should be recognized as passing. </li>\n",
    "<li> A GPA at or below 2 should flag the student for needing to talk to Academic Services.</li>\n",
    "</ul>\n",
    "<br>\n",
    "However, the code is giving us the wrong output. To fix the code to behave like we want, what do we need to change the conditions to? <br> You can test your answer by changing the value of double GPA and executing the cell. <br> \n",
    "Condition A, Condition B and Condition C are marked with comments. Be sure to record your answer on your hardcopy quiz.<br>"
   ]
  },
  {
   "cell_type": "code",
   "execution_count": null,
   "metadata": {},
   "outputs": [],
   "source": [
    "\n",
    "int studentNumber = 721952;\n",
    "string firstName = \"Patrice\";\n",
    "string lastName = \"Lumumba\"; \n",
    "double GPA = 3.5; \n",
    "\n",
    "if ( GPA > 4 ) //Condition A\n",
    "{\n",
    "    WriteLine(\"Student: {0,-5:f0} has an A.\\n{1} {2} will be on the Dean's List.\", studentNumber, firstName, lastName);\n",
    "} \n",
    "else if ( GPA > 3.5 ) //Condition B\n",
    "{\n",
    "    WriteLine(\"Student: {0,-5:f0} has a high GPA.\\n{1} {2} will be recognized for their GPA.\", studentNumber, firstName, lastName);\n",
    "} \n",
    "else if ( GPA >= 2) //Condition C\n",
    "{\n",
    "    WriteLine(\"Student: {0,-5:f0} has a grade at or above a C.\\n{1} {2} is passing currently.\", studentNumber, firstName, lastName);\n",
    "} \n",
    "else \n",
    "{\n",
    "    WriteLine(\"Student: {0,-5:f0} is not passing.\\n{1} {2} will be refered to Academic Services.\", studentNumber, firstName, lastName);\n",
    "}\n"
   ]
  },
  {
   "cell_type": "markdown",
   "metadata": {},
   "source": [
    "#### Question 3"
   ]
  },
  {
   "cell_type": "markdown",
   "metadata": {},
   "source": [
    "<p>In the following block of code, there are several compound conditional statements. <br>\n",
    "<p>These statements will evaluate to TRUE or FALSE. We will then print these values. <br> \n",
    "<p>What initialization values could we pick for variables <i> a, b, c, d</i> and <i>e</i> so that the compound Boolean statements <i> complex1, complex2</i> and <i>complex3</i> evaluate to TRUE? "
   ]
  },
  {
   "cell_type": "code",
   "execution_count": null,
   "metadata": {
    "scrolled": true
   },
   "outputs": [],
   "source": [
    "\n",
    "int a = ; //choose a value \n",
    "int b = ; //choose a value \n",
    "double c = ; //choose a value \n",
    "byte d = ; //choose a value \n",
    "bool e = ; //choose a value \n",
    "\n",
    "//do NOT edit code past this point :-T \n",
    "bool complex1 = ( b > a ) && ( b - a > c );\n",
    "bool complex2 = !e || ( ( c + d > b ) && ( b % 5 == 0 ) && ( a % 2 ==0 ) );\n",
    "bool complex3 = ( c + d > b ) || ( a - b > c );\n",
    "\n",
    "WriteLine(\"[{0}, {1}, {2}]\", complex1, complex2, complex3);\n",
    "\n",
    "if (complex1 && complex2 && complex3)\n",
    "{\n",
    "    WriteLine(\"Rad! They are all true!\");\n",
    "} \n",
    "else \n",
    "{\n",
    "    WriteLine(\"Try again...\");\n",
    "}\n"
   ]
  },
  {
   "cell_type": "markdown",
   "metadata": {},
   "source": [
    "#### Question 4"
   ]
  },
  {
   "cell_type": "markdown",
   "metadata": {},
   "source": [
    "<p>Complete the method statement below. This method takes 3 integers as arguments and will return a boolean. If the first int minus the second int is less than or equal to the third int, this method should return true. Otherwise, this method should return false. If the first two parameters are equal, myMethod should return false.<br>\n",
    "<p>You can test your method by running the cell below labeled \"Testing Calls\". <br>"
   ]
  },
  {
   "cell_type": "code",
   "execution_count": null,
   "metadata": {
    "scrolled": true
   },
   "outputs": [],
   "source": [
    "//myMethod should return false when a minus b equals 0\n",
    "//myMethod should return false if a minus b is greater than c\n",
    "//myMethod should return true if a minus b is less than or equal to c\n",
    "\n",
    "public static bool myMethod( int a, int b, int c )\n",
    "{\n",
    "    //your code goes here \n",
    "    \n",
    "    \n",
    "}"
   ]
  },
  {
   "cell_type": "markdown",
   "metadata": {},
   "source": [
    "###### Testing Calls"
   ]
  },
  {
   "cell_type": "code",
   "execution_count": null,
   "metadata": {},
   "outputs": [],
   "source": [
    "//dont change these lines.... just run them \n",
    "WriteLine(\"testing myMethod with ({0,2}, {1,2}, {2,3}) >>>> Method evaluated correctly? {3}\", 10, 1, 15, ((myMethod(10,1,15) == true)?\"Yes\":\"No\"));\n",
    "WriteLine(\"testing myMethod with ({0,2}, {1,2}, {2,3}) >>>> Method evaluated correctly? {3}\", 20, 11, 15, ((myMethod(20,11,15) == true)?\"Yes\":\"No\"));\n",
    "WriteLine(\"testing myMethod with ({0,2}, {1,2}, {2,3}) >>>> Method evaluated correctly? {3}\", 30, 1, 0, ((myMethod(30,1,0) == false)?\"Yes\":\"No\"));\n",
    "WriteLine(\"testing myMethod with ({0,2}, {1,2}, {2,3}) >>>> Method evaluated correctly? {3}\", 25, 24, 1, ((myMethod(25,24,1) == true)?\"Yes\":\"No\"));\n",
    "WriteLine(\"testing myMethod with ({0,2}, {1,2}, {2,3}) >>>> Method evaluated correctly? {3}\", 24, 25, -1, ((myMethod(24,25,-1) == true)?\"Yes\":\"No\"));\n",
    "WriteLine(\"testing myMethod with ({0,2}, {1,2}, {2,3}) >>>> Method evaluated correctly? {3}\", 5, 10, -20, ((myMethod(5,10,-20) == false)?\"Yes\":\"No\"));\n",
    "WriteLine(\"testing myMethod with ({0,2}, {1,2}, {2,3}) >>>> Method evaluated correctly? {3}\", 5, 5, 0, ((myMethod(5,5,-0) == false)?\"Yes\":\"No\"));\n"
   ]
  },
  {
   "cell_type": "markdown",
   "metadata": {},
   "source": [
    "#### Question 5"
   ]
  },
  {
   "cell_type": "markdown",
   "metadata": {},
   "source": [
    "<p>This code is designed to print out a letter grade given a double. Currently, this code does not work. <br>\n",
    "<p>Identify the error and answer these questions:\n",
    "<ol>\n",
    "    <li>What is the error?</li>\n",
    "    <li>Is it a syntax or logical error?</li>\n",
    "    <li>What line(s)?</li>\n",
    "</ol>\n",
    "<p>Put your answer on your quiz hardcopy.<br>"
   ]
  },
  {
   "cell_type": "code",
   "execution_count": null,
   "metadata": {
    "scrolled": true
   },
   "outputs": [],
   "source": [
    "//you can change the value of grade and edit the code below to find the issue\n",
    "double grade = 65;\n",
    "if( grade >= 90 ); \n",
    "{\n",
    "    WriteLine(\"{0:n2} is an A.\", grade);      //Line 5\n",
    "}\n",
    "else if ( grade >= 80 );\n",
    "{\n",
    "    WriteLine(\"{0:n2} is a B.\", grade);\n",
    "}                                             //Line 10\n",
    "else if ( grade >= 70 );\n",
    "{\n",
    "    WriteLine(\"{0:n2} is a C.\", grade);\n",
    "}\n",
    "else if ( grade >= 60 );                      //Line 15\n",
    "{\n",
    "    WriteLine(\"{0:n2} is a D.\", grade);\n",
    "}\n",
    "else \n",
    "{                                             //Line 20\n",
    "    WriteLine(\"{0:n2} is an F.\", grade);\n",
    "}"
   ]
  },
  {
   "cell_type": "code",
   "execution_count": null,
   "metadata": {},
   "outputs": [],
   "source": []
  }
 ],
 "metadata": {
  "celltoolbar": "Raw Cell Format",
  "kernelspec": {
   "display_name": ".NET (C#)",
   "language": "C#",
   "name": ".net-csharp"
  },
  "language_info": {
   "file_extension": ".cs",
   "mimetype": "text/x-csharp",
   "name": "C#",
   "pygments_lexer": "csharp",
   "version": "8.0"
  }
 },
 "nbformat": 4,
 "nbformat_minor": 4
}
