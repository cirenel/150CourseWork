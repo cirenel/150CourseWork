{
 "cells": [
  {
   "cell_type": "markdown",
   "metadata": {
    "deletable": false,
    "editable": false
   },
   "source": [
    "# Quiz 2 : Conditional and If Statements"
   ]
  },
  {
   "cell_type": "markdown",
   "metadata": {
    "deletable": false,
    "editable": false
   },
   "source": [
    "### Section 2"
   ]
  },
  {
   "cell_type": "markdown",
   "metadata": {
    "deletable": false,
    "editable": false
   },
   "source": [
    "<h3> We're going to try something new.</h3>\n",
    "<p>This is a Jupyter notebook. If you select a cell with code in it then click the \"Run\" button above, the code will execute! <br>\n",
    "<p>You can edit and test code here independent of the Visual Studio IDE and without some of the extra syntax that can get underfoot. We're going to use it to focus in on a few quiz questions. <br> "
   ]
  },
  {
   "cell_type": "code",
   "execution_count": 1,
   "metadata": {
    "hidden": true
   },
   "outputs": [
    {
     "data": {
      "text/html": [
       "\r\n",
       "<div>\r\n",
       "    <div id='dotnet-interactive-this-cell-14864.Microsoft.DotNet.Interactive.Http.HttpPort' style='display: none'>\r\n",
       "        The below script needs to be able to find the current output cell; this is an easy method to get it.\r\n",
       "    </div>\r\n",
       "    <script type='text/javascript'>\r\n",
       "async function probeAddresses(probingAddresses) {\r\n",
       "    function timeout(ms, promise) {\r\n",
       "        return new Promise(function (resolve, reject) {\r\n",
       "            setTimeout(function () {\r\n",
       "                reject(new Error('timeout'))\r\n",
       "            }, ms)\r\n",
       "            promise.then(resolve, reject)\r\n",
       "        })\r\n",
       "    }\r\n",
       "\r\n",
       "    if (Array.isArray(probingAddresses)) {\r\n",
       "        for (let i = 0; i < probingAddresses.length; i++) {\r\n",
       "\r\n",
       "            let rootUrl = probingAddresses[i];\r\n",
       "\r\n",
       "            if (!rootUrl.endsWith('/')) {\r\n",
       "                rootUrl = `${rootUrl}/`;\r\n",
       "            }\r\n",
       "\r\n",
       "            try {\r\n",
       "                let response = await timeout(1000, fetch(`${rootUrl}discovery`, {\r\n",
       "                    method: 'POST',\r\n",
       "                    cache: 'no-cache',\r\n",
       "                    mode: 'cors',\r\n",
       "                    timeout: 1000,\r\n",
       "                    headers: {\r\n",
       "                        'Content-Type': 'text/plain'\r\n",
       "                    },\r\n",
       "                    body: probingAddresses[i]\r\n",
       "                }));\r\n",
       "\r\n",
       "                if (response.status == 200) {\r\n",
       "                    return rootUrl;\r\n",
       "                }\r\n",
       "            }\r\n",
       "            catch (e) { }\r\n",
       "        }\r\n",
       "    }\r\n",
       "}\r\n",
       "\r\n",
       "function loadDotnetInteractiveApi() {\r\n",
       "    probeAddresses([\"http://192.168.56.1:1000/\", \"http://127.0.0.1:1000/\"])\r\n",
       "        .then((root) => {\r\n",
       "        // use probing to find host url and api resources\r\n",
       "        // load interactive helpers and language services\r\n",
       "        let dotnetInteractiveRequire = require.config({\r\n",
       "        context: '14864.Microsoft.DotNet.Interactive.Http.HttpPort',\r\n",
       "                paths:\r\n",
       "            {\r\n",
       "                'dotnet-interactive': `${root}resources`\r\n",
       "                }\r\n",
       "        }) || require;\r\n",
       "\r\n",
       "            window.dotnetInteractiveRequire = dotnetInteractiveRequire;\r\n",
       "\r\n",
       "            window.configureRequireFromExtension = function(extensionName, extensionCacheBuster) {\r\n",
       "                let paths = {};\r\n",
       "                paths[extensionName] = `${root}extensions/${extensionName}/resources/`;\r\n",
       "                \r\n",
       "                let internalRequire = require.config({\r\n",
       "                    context: extensionCacheBuster,\r\n",
       "                    paths: paths,\r\n",
       "                    urlArgs: `cacheBuster=${extensionCacheBuster}`\r\n",
       "                    }) || require;\r\n",
       "\r\n",
       "                return internalRequire\r\n",
       "            };\r\n",
       "        \r\n",
       "            dotnetInteractiveRequire([\r\n",
       "                    'dotnet-interactive/dotnet-interactive'\r\n",
       "                ],\r\n",
       "                function (dotnet) {\r\n",
       "                    dotnet.init(window);\r\n",
       "                },\r\n",
       "                function (error) {\r\n",
       "                    console.log(error);\r\n",
       "                }\r\n",
       "            );\r\n",
       "        })\r\n",
       "        .catch(error => {console.log(error);});\r\n",
       "    }\r\n",
       "\r\n",
       "// ensure `require` is available globally\r\n",
       "if ((typeof(require) !==  typeof(Function)) || (typeof(require.config) !== typeof(Function))) {\r\n",
       "    let require_script = document.createElement('script');\r\n",
       "    require_script.setAttribute('src', 'https://cdnjs.cloudflare.com/ajax/libs/require.js/2.3.6/require.min.js');\r\n",
       "    require_script.setAttribute('type', 'text/javascript');\r\n",
       "    \r\n",
       "    \r\n",
       "    require_script.onload = function() {\r\n",
       "        loadDotnetInteractiveApi();\r\n",
       "    };\r\n",
       "\r\n",
       "    document.getElementsByTagName('head')[0].appendChild(require_script);\r\n",
       "}\r\n",
       "else {\r\n",
       "    loadDotnetInteractiveApi();\r\n",
       "}\r\n",
       "\r\n",
       "    </script>\r\n",
       "</div>"
      ]
     },
     "metadata": {},
     "output_type": "display_data"
    }
   ],
   "source": [
    "//test the notebook by running this cell\n",
    "//if something is wrong, let me know... I do have paper copies.... \n",
    "using static System.Console;"
   ]
  },
  {
   "cell_type": "markdown",
   "metadata": {
    "deletable": false,
    "editable": false
   },
   "source": [
    "#### Question 1"
   ]
  },
  {
   "cell_type": "markdown",
   "metadata": {
    "deletable": false,
    "editable": false
   },
   "source": [
    "<p>In the following block of code, we want to change our conditional statements so that the write lines are correct for any two given input values a and b. Complete the conditions marked Condition A and Condition B in the comments by replacing A and B with the correct conditional statement. You can edit the values of int a and int b. <br>\n",
    "<p>Will the WriteLine statements ever <b>both</b> execute?<br>\n",
    "<p> Be sure to record your answer on your hardcopy quiz."
   ]
  },
  {
   "cell_type": "code",
   "execution_count": 2,
   "metadata": {},
   "outputs": [
    {
     "name": "stderr",
     "output_type": "stream",
     "text": [
      "\r\n",
      "(5,5): error CS0103: The name 'A' does not exist in the current context\r\n",
      "\r\n",
      "(10,11): error CS0103: The name 'B' does not exist in the current context\r\n",
      "\r\n"
     ]
    },
    {
     "ename": "Cell not executed",
     "evalue": "compilation error",
     "output_type": "error",
     "traceback": []
    }
   ],
   "source": [
    "\n",
    "int a = 10; \n",
    "int b = 30;\n",
    "\n",
    "//Condition A\n",
    "if( A )\n",
    "{ \n",
    "    WriteLine(\"B is evenly divisible by A.\");\n",
    "}\n",
    "//Condition B\n",
    "else if ( B ){\n",
    "    WriteLine(\"A is 10 more than B.\");\n",
    "} \n"
   ]
  },
  {
   "cell_type": "markdown",
   "metadata": {
    "deletable": false,
    "editable": false
   },
   "source": [
    "#### Question 2"
   ]
  },
  {
   "cell_type": "markdown",
   "metadata": {
    "deletable": false,
    "editable": false
   },
   "source": [
    "In the following block of code, something is NOT right. <br><br>\n",
    "We want to print the student number first and last name to the console with some additional notes: \n",
    "<ul>\n",
    "    <li>A GPA of 4 or above should qualify the student for the Dean's List. </li>\n",
    "<li>A GPA between 3.5 and 4 should qualify the student for recognition. </li>\n",
    "<li>A GPA between 2 and 3.5 the student should be recognized as passing. </li>\n",
    "<li> A GPA at or below 2 should flag the student for needing to talk to Academic Services.</li>\n",
    "</ul>\n",
    "<br>\n",
    "However, the code is giving us the wrong output. To fix the code to behave like we want, what do we need to change the conditions to? <br> You can test your answer by changing the value of double GPA and executing the cell. <br> \n",
    "Condition A, Condition B and Condition C are marked with comments. Be sure to record your answer on your hardcopy quiz.<br>"
   ]
  },
  {
   "cell_type": "code",
   "execution_count": 3,
   "metadata": {},
   "outputs": [
    {
     "name": "stdout",
     "output_type": "stream",
     "text": [
      "Student: 721952 has an A.\n",
      "Patrice Lumumba will be on the Dean's List.\r\n"
     ]
    }
   ],
   "source": [
    "\n",
    "int studentNumber = 721952;\n",
    "string firstName = \"Patrice\";\n",
    "string lastName = \"Lumumba\"; \n",
    "double GPA = 3.5; \n",
    "\n",
    "if ( GPA < 4 ) //Condition A\n",
    "{\n",
    "    WriteLine(\"Student: {0,-5:f0} has an A.\\n{1} {2} will be on the Dean's List.\", studentNumber, firstName, lastName);\n",
    "} \n",
    "else if ( GPA < 3.5 ) //Condition B\n",
    "{\n",
    "    WriteLine(\"Student: {0,-5:f0} has a high GPA.\\n{1} {2} will be recognized for their GPA.\", studentNumber, firstName, lastName);\n",
    "\n",
    "    if ( GPA <= 2) //Condition C\n",
    "    {\n",
    "        WriteLine(\"Student: {0,-5:f0} has a grade at or above a C.\\n{1} {2} is passing currently.\", studentNumber, firstName, lastName);\n",
    "    } \n",
    "    else \n",
    "    {\n",
    "        WriteLine(\"Student: {0,-5:f0} is not passing.\\n{1} {2} will be refered to Academic Services.\", studentNumber, firstName, lastName);\n",
    "    }\n",
    "\n",
    "} \n",
    "\n"
   ]
  },
  {
   "cell_type": "markdown",
   "metadata": {
    "deletable": false,
    "editable": false
   },
   "source": [
    "#### Question 3"
   ]
  },
  {
   "cell_type": "markdown",
   "metadata": {
    "deletable": false,
    "editable": false
   },
   "source": [
    "<p>In the following block of code, there are several compound conditional statements. <br>\n",
    "<p>These statements will evaluate to TRUE or FALSE. We will then print these values. <br> \n",
    "<ol> \n",
    "<li> ( b > a ) && ( b - a > c )</li> \n",
    "<li> !e || ( ( c + d > b ) && ( b % 5 == 0 ) && ( a % 2 == 0 ) )</li> \n",
    "<li> ( c + d > b ) || ( a - b > c )</li> \n",
    "</ol> \n",
    "<p>What initialization values could we pick for variables <i> a, b, c, d</i> and <i>e</i> so that the compound Boolean statements <i> complex1, complex2</i> and <i>complex3</i> evaluate to TRUE? "
   ]
  },
  {
   "cell_type": "code",
   "execution_count": 4,
   "metadata": {
    "scrolled": true
   },
   "outputs": [
    {
     "name": "stderr",
     "output_type": "stream",
     "text": [
      "\r\n",
      "(1,9): error CS1525: Invalid expression term ';'\r\n",
      "\r\n",
      "(2,9): error CS1525: Invalid expression term ';'\r\n",
      "\r\n",
      "(3,12): error CS1525: Invalid expression term ';'\r\n",
      "\r\n",
      "(4,11): error CS1525: Invalid expression term ';'\r\n",
      "\r\n",
      "(5,11): error CS1525: Invalid expression term ';'\r\n",
      "\r\n"
     ]
    },
    {
     "ename": "Cell not executed",
     "evalue": "compilation error",
     "output_type": "error",
     "traceback": []
    }
   ],
   "source": [
    "\n",
    "int a = ; //choose a value \n",
    "int b = ; //choose a value \n",
    "double c = ; //choose a value \n",
    "byte d =  ; //choose a value \n",
    "bool e =  ; //choose a value \n"
   ]
  },
  {
   "cell_type": "code",
   "execution_count": 5,
   "metadata": {
    "deletable": false,
    "editable": false
   },
   "outputs": [
    {
     "name": "stderr",
     "output_type": "stream",
     "text": [
      "\r\n",
      "(3,40): error CS0103: The name 'c' does not exist in the current context\r\n",
      "\r\n",
      "(4,18): error CS0103: The name 'e' does not exist in the current context\r\n",
      "\r\n",
      "(4,27): error CS0103: The name 'c' does not exist in the current context\r\n",
      "\r\n",
      "(4,31): error CS0103: The name 'd' does not exist in the current context\r\n",
      "\r\n",
      "(5,19): error CS0103: The name 'c' does not exist in the current context\r\n",
      "\r\n",
      "(5,23): error CS0103: The name 'd' does not exist in the current context\r\n",
      "\r\n",
      "(5,44): error CS0103: The name 'c' does not exist in the current context\r\n",
      "\r\n"
     ]
    },
    {
     "ename": "Cell not executed",
     "evalue": "compilation error",
     "output_type": "error",
     "traceback": []
    }
   ],
   "source": [
    "\n",
    "//do NOT edit code past this point :-T \n",
    "//just select the cell and hit run to see if your conditonal inputs are correct \n",
    "bool complex1 = ( b > a ) && ( b - a > c );\n",
    "bool complex2 = !e || ( ( c + d > b ) && ( b % 5 == 0 ) && ( a % 2 ==0 ) );\n",
    "bool complex3 = ( c + d > b ) || ( a - b > c );\n",
    "\n",
    "WriteLine(\"[complex1:{0}, \\n complex2:{1}, \\n complex3:{2}]\", complex1, complex2, complex3);\n",
    "\n",
    "if (complex1 && complex2 && complex3)\n",
    "{\n",
    "    WriteLine(\"Rad! They are all true!\");\n",
    "} \n",
    "else \n",
    "{\n",
    "    WriteLine(\"Try again...\");\n",
    "}"
   ]
  },
  {
   "cell_type": "markdown",
   "metadata": {
    "deletable": false,
    "editable": false
   },
   "source": [
    "#### Question 4"
   ]
  },
  {
   "cell_type": "markdown",
   "metadata": {
    "deletable": false,
    "editable": false
   },
   "source": [
    "<p>Complete the method statement below. This method takes 3 integers as arguments and will return a boolean. If the first int minus the second int is less than or equal to the third int, this method should return true. Otherwise, this method should return false. If the first two parameters are equal, myMethod should return false.<br>\n",
    "<p>You can test your method by running the cell below labeled \"Testing Calls\". <br>"
   ]
  },
  {
   "cell_type": "code",
   "execution_count": 6,
   "metadata": {
    "scrolled": true
   },
   "outputs": [
    {
     "name": "stderr",
     "output_type": "stream",
     "text": [
      "\r\n",
      "(5,20): error CS0161: 'myMethod(int, int, int)': not all code paths return a value\r\n",
      "\r\n"
     ]
    },
    {
     "ename": "Cell not executed",
     "evalue": "compilation error",
     "output_type": "error",
     "traceback": []
    }
   ],
   "source": [
    "//myMethod should return false when a minus b equals 0\n",
    "//myMethod should return false if a minus b is greater than c\n",
    "//myMethod should return true if a minus b is less than or equal to c\n",
    "\n",
    "public static bool myMethod( int a, int b, int c )\n",
    "{\n",
    "    //your code goes here \n",
    "    \n",
    "    \n",
    "}"
   ]
  },
  {
   "cell_type": "markdown",
   "metadata": {
    "deletable": false,
    "editable": false
   },
   "source": [
    "###### Testing Calls"
   ]
  },
  {
   "cell_type": "code",
   "execution_count": 7,
   "metadata": {
    "deletable": false,
    "editable": false
   },
   "outputs": [
    {
     "name": "stderr",
     "output_type": "stream",
     "text": [
      "\r\n",
      "(2,108): error CS0103: The name 'myMethod' does not exist in the current context\r\n",
      "\r\n",
      "(3,109): error CS0103: The name 'myMethod' does not exist in the current context\r\n",
      "\r\n",
      "(4,107): error CS0103: The name 'myMethod' does not exist in the current context\r\n",
      "\r\n",
      "(5,108): error CS0103: The name 'myMethod' does not exist in the current context\r\n",
      "\r\n",
      "(6,109): error CS0103: The name 'myMethod' does not exist in the current context\r\n",
      "\r\n",
      "(7,109): error CS0103: The name 'myMethod' does not exist in the current context\r\n",
      "\r\n",
      "(8,106): error CS0103: The name 'myMethod' does not exist in the current context\r\n",
      "\r\n"
     ]
    },
    {
     "ename": "Cell not executed",
     "evalue": "compilation error",
     "output_type": "error",
     "traceback": []
    }
   ],
   "source": [
    "//dont change these lines.... just run them \n",
    "WriteLine(\"testing myMethod with ({0,2}, {1,2}, {2,3}) >>>> Method evaluated correctly? {3}\", 10, 1, 15, ((myMethod(10,1,15) == true)?\"Yes\":\"No\"));\n",
    "WriteLine(\"testing myMethod with ({0,2}, {1,2}, {2,3}) >>>> Method evaluated correctly? {3}\", 20, 11, 15, ((myMethod(20,11,15) == true)?\"Yes\":\"No\"));\n",
    "WriteLine(\"testing myMethod with ({0,2}, {1,2}, {2,3}) >>>> Method evaluated correctly? {3}\", 30, 1, 0, ((myMethod(30,1,0) == false)?\"Yes\":\"No\"));\n",
    "WriteLine(\"testing myMethod with ({0,2}, {1,2}, {2,3}) >>>> Method evaluated correctly? {3}\", 25, 24, 1, ((myMethod(25,24,1) == true)?\"Yes\":\"No\"));\n",
    "WriteLine(\"testing myMethod with ({0,2}, {1,2}, {2,3}) >>>> Method evaluated correctly? {3}\", 24, 25, -1, ((myMethod(24,25,-1) == true)?\"Yes\":\"No\"));\n",
    "WriteLine(\"testing myMethod with ({0,2}, {1,2}, {2,3}) >>>> Method evaluated correctly? {3}\", 5, 10, -20, ((myMethod(5,10,-20) == false)?\"Yes\":\"No\"));\n",
    "WriteLine(\"testing myMethod with ({0,2}, {1,2}, {2,3}) >>>> Method evaluated correctly? {3}\", 5, 5, 0, ((myMethod(5,5,-0) == false)?\"Yes\":\"No\"));\n"
   ]
  },
  {
   "cell_type": "markdown",
   "metadata": {
    "deletable": false,
    "editable": false
   },
   "source": [
    "#### Question 5"
   ]
  },
  {
   "cell_type": "markdown",
   "metadata": {
    "deletable": false,
    "editable": false
   },
   "source": [
    "<p>This code is designed to print out a letter grade given a double. Currently, this code does not work. <br>\n",
    "<p>Identify the error and answer these questions:\n",
    "<ol>\n",
    "    <li>What is the error?</li>\n",
    "    <li>Is it a syntax or logical error?</li>\n",
    "    <li>What line(s)?</li>\n",
    "</ol>\n",
    "<p>Put your answer on your quiz hardcopy.<br>"
   ]
  },
  {
   "cell_type": "code",
   "execution_count": 8,
   "metadata": {
    "scrolled": true
   },
   "outputs": [
    {
     "name": "stderr",
     "output_type": "stream",
     "text": [
      "\r\n",
      "(6,2): error CS8641: 'else' cannot start a statement.\r\n",
      "\r\n",
      "(6,2): error CS1003: Syntax error, '(' expected\r\n",
      "\r\n",
      "(6,2): error CS1525: Invalid expression term 'else'\r\n",
      "\r\n",
      "(6,2): error CS1026: ) expected\r\n",
      "\r\n",
      "(6,2): error CS1525: Invalid expression term 'else'\r\n",
      "\r\n",
      "(6,2): error CS1002: ; expected\r\n",
      "\r\n",
      "(10,2): error CS8641: 'else' cannot start a statement.\r\n",
      "\r\n",
      "(10,2): error CS1003: Syntax error, '(' expected\r\n",
      "\r\n",
      "(10,2): error CS1525: Invalid expression term 'else'\r\n",
      "\r\n",
      "(10,2): error CS1026: ) expected\r\n",
      "\r\n",
      "(10,2): error CS1525: Invalid expression term 'else'\r\n",
      "\r\n",
      "(10,2): error CS1002: ; expected\r\n",
      "\r\n",
      "(14,2): error CS8641: 'else' cannot start a statement.\r\n",
      "\r\n",
      "(14,2): error CS1003: Syntax error, '(' expected\r\n",
      "\r\n",
      "(14,2): error CS1525: Invalid expression term 'else'\r\n",
      "\r\n",
      "(14,2): error CS1026: ) expected\r\n",
      "\r\n",
      "(14,2): error CS1525: Invalid expression term 'else'\r\n",
      "\r\n",
      "(14,2): error CS1002: ; expected\r\n",
      "\r\n",
      "(18,2): error CS8641: 'else' cannot start a statement.\r\n",
      "\r\n",
      "(18,2): error CS1003: Syntax error, '(' expected\r\n",
      "\r\n",
      "(18,2): error CS1525: Invalid expression term 'else'\r\n",
      "\r\n",
      "(18,2): error CS1026: ) expected\r\n",
      "\r\n",
      "(18,2): error CS1525: Invalid expression term 'else'\r\n",
      "\r\n",
      "(18,2): error CS1002: ; expected\r\n",
      "\r\n"
     ]
    },
    {
     "ename": "Cell not executed",
     "evalue": "compilation error",
     "output_type": "error",
     "traceback": []
    }
   ],
   "source": [
    "//you can change the value of grade and edit the code below to find the issue\n",
    "double grade = 65;\n",
    "if( grade >= 90 ); \n",
    "{\n",
    "    WriteLine(\"{0:n2} is an A.\", grade);      //Line 5\n",
    "}\n",
    "else if ( grade >= 80 );\n",
    "{\n",
    "    WriteLine(\"{0:n2} is a B.\", grade);\n",
    "}                                             //Line 10\n",
    "else if ( grade >= 70 );\n",
    "{\n",
    "    WriteLine(\"{0:n2} is a C.\", grade);\n",
    "}\n",
    "else if ( grade >= 60 );                      //Line 15\n",
    "{\n",
    "    WriteLine(\"{0:n2} is a D.\", grade);\n",
    "}\n",
    "else \n",
    "{                                             //Line 20\n",
    "    WriteLine(\"{0:n2} is an F.\", grade);\n",
    "}"
   ]
  },
  {
   "cell_type": "code",
   "execution_count": null,
   "metadata": {},
   "outputs": [],
   "source": []
  }
 ],
 "metadata": {
  "celltoolbar": "Raw Cell Format",
  "kernelspec": {
   "display_name": ".NET (C#)",
   "language": "C#",
   "name": ".net-csharp"
  },
  "language_info": {
   "file_extension": ".cs",
   "mimetype": "text/x-csharp",
   "name": "C#",
   "pygments_lexer": "csharp",
   "version": "8.0"
  }
 },
 "nbformat": 4,
 "nbformat_minor": 4
}
