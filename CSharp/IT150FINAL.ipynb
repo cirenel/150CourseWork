{
 "cells": [
  {
   "cell_type": "markdown",
   "metadata": {},
   "source": [
    "Summer 2021 Final Exam Method Questions"
   ]
  },
  {
   "cell_type": "code",
   "execution_count": 2,
   "metadata": {},
   "outputs": [],
   "source": [
    "//run this cell first!\n",
    "using System;\n",
    "using static System.Console;\n"
   ]
  },
  {
   "cell_type": "markdown",
   "metadata": {},
   "source": [
    "MethodA"
   ]
  },
  {
   "cell_type": "code",
   "execution_count": 3,
   "metadata": {},
   "outputs": [],
   "source": [
    "public static double methodA(double x1, double y1, double x2, double y2)\n",
    "{\n",
    "    //TODO --> your code here. replace the return with your calculation  \n",
    "    return 0.0; \n",
    "\n",
    "}"
   ]
  },
  {
   "cell_type": "code",
   "execution_count": 4,
   "metadata": {},
   "outputs": [
    {
     "name": "stdout",
     "output_type": "stream",
     "text": [
      "Test 1 : Passed\n",
      "Test 2 : Failed\n",
      "Test 3 : Failed\n",
      "Test 4 : Failed\n",
      "Test 5 : Failed\n"
     ]
    }
   ],
   "source": [
    "//run this cell to test your methodA!\n",
    "WriteLine(\"Test 1 : {0}\", (methodA(6,4,6,4)==0)?\"Passed\":\"Failed\");\n",
    "WriteLine(\"Test 2 : {0}\", (methodA(4,6,6,4)==2.8284271247461903)?\"Passed\":\"Failed\");\n",
    "WriteLine(\"Test 3 : {0}\", (methodA(6,-10,44,60)==79.64923100695951)?\"Passed\":\"Failed\");\n",
    "WriteLine(\"Test 4 : {0}\", (methodA(-1.4, 3.2, 8.3, -10)==16.380781422142228)?\"Passed\":\"Failed\");\n",
    "WriteLine(\"Test 5 : {0}\", (methodA(13,14,15,16)==2.8284271247461903)?\"Passed\":\"Failed\");\n"
   ]
  },
  {
   "cell_type": "markdown",
   "metadata": {},
   "source": [
    "Method B"
   ]
  },
  {
   "cell_type": "code",
   "execution_count": 5,
   "metadata": {},
   "outputs": [],
   "source": [
    "public static bool methodB(double gpa, int numCourses)\n",
    "{\n",
    "    //TODO --> your code here. replace the return with your calculation  \n",
    "    return true; \n",
    "}"
   ]
  },
  {
   "cell_type": "code",
   "execution_count": 6,
   "metadata": {},
   "outputs": [
    {
     "name": "stdout",
     "output_type": "stream",
     "text": [
      "Test 1 : Passed\n",
      "Test 2 : Failed\n",
      "Test 3 : Passed\n",
      "Test 4 : Passed\n",
      "Test 5 : Passed\n",
      "Test 6 : Failed\n",
      "Test 7 : Failed\n"
     ]
    }
   ],
   "source": [
    "//run this cell to test your method B!\n",
    "WriteLine(\"Test 1 : {0}\", (methodB(1.0, 30) == true)?\"Passed\":\"Failed\");\n",
    "WriteLine(\"Test 2 : {0}\", (methodB(4.5, 10) == false)?\"Passed\":\"Failed\");\n",
    "WriteLine(\"Test 3 : {0}\", (methodB(3.5, 12) == true)?\"Passed\":\"Failed\");\n",
    "WriteLine(\"Test 4 : {0}\", (methodB(1.0, 12) == true)?\"Passed\":\"Failed\");\n",
    "WriteLine(\"Test 5 : {0}\", (methodB(3.5, 15) == true)?\"Passed\":\"Failed\");\n",
    "WriteLine(\"Test 6 : {0}\", (methodB(0.2, 15) == false)?\"Passed\":\"Failed\");\n",
    "WriteLine(\"Test 7 : {0}\", (methodB(3.5, 10) == false)?\"Passed\":\"Failed\");"
   ]
  },
  {
   "cell_type": "markdown",
   "metadata": {},
   "source": [
    "Method C"
   ]
  },
  {
   "cell_type": "code",
   "execution_count": 7,
   "metadata": {},
   "outputs": [],
   "source": [
    "public static double methodC()\n",
    "{\n",
    "    Random r = new Random(); //this constructs a randomizer called r. this line should be first \n",
    "    \n",
    "    int num = r.Next(1,101); //this is a single random number between 1 and 100. this line is somewhere in your code\n",
    " \n",
    "     //TODO --> your code here. replace the return with your calculation  \n",
    "    return 0.0; \n",
    "}"
   ]
  },
  {
   "cell_type": "code",
   "execution_count": 8,
   "metadata": {},
   "outputs": [
    {
     "name": "stdout",
     "output_type": "stream",
     "text": [
      "Do note, because we're averaging random numbers, your answers may be a little off. \n",
      " for these tests, if you pass at least 6 of them,  you should be ok.\n",
      "Test  1 : Failed\n",
      "Test  2 : Failed\n",
      "Test  3 : Failed\n",
      "Test  4 : Failed\n",
      "Test  5 : Failed\n",
      "Test  6 : Failed\n",
      "Test  7 : Failed\n",
      "Test  8 : Failed\n",
      "Test  9 : Failed\n",
      "Test 10 : Failed\n"
     ]
    }
   ],
   "source": [
    "//run this cell to test your method C!\n",
    "WriteLine(\"Do note, because we're averaging random numbers, your answers may be a little off. \\n for these tests, if you pass at least 6 of them,  you should be ok.\");\n",
    "for(int j = 1; j <= 10; j++){\n",
    "    WriteLine(\"Test{0,3} : {1}\", j, (Math.Abs(50-methodC())<=1)?\"Passed\":\"Failed\");\n",
    "}"
   ]
  },
  {
   "cell_type": "markdown",
   "metadata": {},
   "source": [
    "Method D"
   ]
  },
  {
   "cell_type": "code",
   "execution_count": 9,
   "metadata": {},
   "outputs": [],
   "source": [
    "public static string methodD(char c, int count)\n",
    "{\n",
    "    //TODO --> your code here. replace the return with your calculation  \n",
    "    return \"\"; \n",
    "\n",
    "}"
   ]
  },
  {
   "cell_type": "code",
   "execution_count": 10,
   "metadata": {},
   "outputs": [
    {
     "name": "stdout",
     "output_type": "stream",
     "text": [
      "Test 1 : Failed\n",
      "Test 2 : Failed\n",
      "Test 3 : Passed\n",
      "Test 4 : Passed\n",
      "Test 5 : Failed\n"
     ]
    }
   ],
   "source": [
    "//run this cell to test your method d!\n",
    "WriteLine(\"Test 1 : {0}\", (methodD('a', 4).Equals(\"aaaa\"))?\"Passed\":\"Failed\");\n",
    "WriteLine(\"Test 2 : {0}\", (methodD('b', 10).Equals(\"bbbbbbbbbb\"))?\"Passed\":\"Failed\");\n",
    "WriteLine(\"Test 3 : {0}\", (methodD('c', -4).Equals(\"\"))?\"Passed\":\"Failed\");\n",
    "WriteLine(\"Test 4 : {0}\", (methodD('d', -20).Equals(\"\"))?\"Passed\":\"Failed\");\n",
    "WriteLine(\"Test 5 : {0}\", (methodD('\\t', 5).Equals(\"\\t\\t\\t\\t\\t\"))?\"Passed\":\"Failed\");"
   ]
  }
 ],
 "metadata": {
  "kernelspec": {
   "display_name": ".NET (C#)",
   "language": "C#",
   "name": ".net-csharp"
  },
  "language_info": {
   "file_extension": ".cs",
   "mimetype": "text/x-csharp",
   "name": "C#",
   "pygments_lexer": "csharp",
   "version": "8.0"
  }
 },
 "nbformat": 4,
 "nbformat_minor": 4
}
